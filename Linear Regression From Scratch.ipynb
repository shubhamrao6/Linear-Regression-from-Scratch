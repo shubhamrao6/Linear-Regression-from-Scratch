{
 "cells": [
  {
   "cell_type": "markdown",
   "metadata": {},
   "source": [
    "# Linear Regression Tutorial\n",
    "In this notebook, I'll be discussing about Linear Regression and try to implement it in python in a very easy way so that a beginner will also be able to start learning intuition in Machine Learning."
   ]
  },
  {
   "cell_type": "markdown",
   "metadata": {},
   "source": [
    "## Numpy and Matplotlib\n",
    "**Numpy:** This library is used to implement mathematical expressions.\n",
    "**Matplotlib:** Will be used to generate graphs."
   ]
  },
  {
   "cell_type": "code",
   "execution_count": 195,
   "metadata": {},
   "outputs": [],
   "source": [
    "import numpy as np\n",
    "import matplotlib.pyplot as plt"
   ]
  },
  {
   "cell_type": "markdown",
   "metadata": {},
   "source": [
    "Linear Regression is just **Glorified straight curve fitting.**\n",
    "What we want to do is to find a straight line that will fit the points with the least magnitude of error.\n",
    "I'll be inplementing the algorithm in a one-dimensional dataset so that we can visualize it with the help of a graph."
   ]
  },
  {
   "cell_type": "code",
   "execution_count": 196,
   "metadata": {},
   "outputs": [],
   "source": [
    "X_train = [1.1, 2.2, 2.8,3.8,5.2,6,7.1,8.05,8.95,10.3]\n",
    "y_train = [1,2,3,4,5,6,7,8,9,10]"
   ]
  },
  {
   "cell_type": "code",
   "execution_count": 212,
   "metadata": {},
   "outputs": [
    {
     "data": {
      "text/plain": [
       "Text(0,0.5,'y_train')"
      ]
     },
     "execution_count": 212,
     "metadata": {},
     "output_type": "execute_result"
    },
    {
     "data": {
      "image/png": "[encoded data removed]",
      "text/plain": [
       "<matplotlib.figure.Figure at 0xce45274dd8>"
      ]
     },
     "metadata": {},
     "output_type": "display_data"
    }
   ],
   "source": [
    "plt.scatter(X_train, y_train)\n",
    "plt.xlabel('X_train')\n",
    "plt.ylabel('y_train')"
   ]
  },
  {
   "cell_type": "markdown",
   "metadata": {},
   "source": [
    "## 1. Initailizing Parameters\n",
    "We first assume the equation of the straight line to be **y = wX + b** and initialize the parameters **w** and **b** with zero.                                           "
   ]
  },
  {
   "cell_type": "code",
   "execution_count": 199,
   "metadata": {},
   "outputs": [
    {
     "data": {
      "text/plain": [
       "array([ 1,  2,  3,  4,  5,  6,  7,  8,  9, 10])"
      ]
     },
     "execution_count": 199,
     "metadata": {},
     "output_type": "execute_result"
    }
   ],
   "source": [
    "w = 0\n",
    "b = 0\n",
    "m = len(X_train)\n",
    "X_train = np.array(X_train)\n",
    "y_train = np.array(y_train)\n",
    "costs = []\n",
    "ws = []\n",
    "y_train"
   ]
  },
  {
   "cell_type": "markdown",
   "metadata": {},
   "source": [
    "## 2. Forward Propagation\n",
    "Then the auxiliary **y** is generated."
   ]
  },
  {
   "cell_type": "code",
   "execution_count": 200,
   "metadata": {},
   "outputs": [
    {
     "data": {
      "text/plain": [
       "array([0., 0., 0., 0., 0., 0., 0., 0., 0., 0.])"
      ]
     },
     "execution_count": 200,
     "metadata": {},
     "output_type": "execute_result"
    }
   ],
   "source": [
    "y = np.dot(w,X_train.T) + b\n",
    "y"
   ]
  },
  {
   "cell_type": "markdown",
   "metadata": {},
   "source": [
    "## 3. Cost Function\n",
    "The cost function is perhaps the most important part of the algorithm. This is the function that we constantly try to decrease"
   ]
  },
  {
   "cell_type": "code",
   "execution_count": 201,
   "metadata": {},
   "outputs": [
    {
     "data": {
      "text/plain": [
       "19.25"
      ]
     },
     "execution_count": 201,
     "metadata": {},
     "output_type": "execute_result"
    }
   ],
   "source": [
    "cost = (1/(2*m))*np.sum((y - y_train)**2)\n",
    "cost"
   ]
  },
  {
   "cell_type": "markdown",
   "metadata": {},
   "source": [
    "## 4. Backward Propagation\n",
    "With the help of the cost function **(and some calculus)**, the parameters gets updated. \n",
    "The most tricky part here is the selection of hyperparameter alpha **(the value 0.001 in front of the equation)**.\n",
    "This notebook was my third attempt as I could not find the most optimal value for alpha in the first two. "
   ]
  },
  {
   "cell_type": "code",
   "execution_count": 202,
   "metadata": {},
   "outputs": [
    {
     "data": {
      "text/plain": [
       "0.038875"
      ]
     },
     "execution_count": 202,
     "metadata": {},
     "output_type": "execute_result"
    }
   ],
   "source": [
    "w -= 0.001*(1/m)*np.dot((y-y_train),X_train)\n",
    "w"
   ]
  },
  {
   "cell_type": "code",
   "execution_count": 203,
   "metadata": {},
   "outputs": [
    {
     "data": {
      "text/plain": [
       "0.0055000000000000005"
      ]
     },
     "execution_count": 203,
     "metadata": {},
     "output_type": "execute_result"
    }
   ],
   "source": [
    "b -= 0.001*(1/m)*np.sum((y-y_train))\n",
    "b"
   ]
  },
  {
   "cell_type": "markdown",
   "metadata": {},
   "source": [
    "## 5. Optimization\n",
    "We will have to continue this **forward - cost - backward** process for a large number of time to get the least value of cost and most optimal parameters."
   ]
  },
  {
   "cell_type": "code",
   "execution_count": 204,
   "metadata": {},
   "outputs": [
    {
     "name": "stdout",
     "output_type": "stream",
     "text": [
      "17.739365527167973\n",
      "7.837211994050121\n",
      "3.466444956124552\n",
      "1.537206028525401\n",
      "0.6856461883305756\n",
      "0.3097688629712999\n",
      "0.14385558410410396\n",
      "0.07061946397439305\n",
      "0.03829061947141663\n",
      "0.02401806655218834\n"
     ]
    }
   ],
   "source": [
    "for i in range(100):\n",
    "    y = np.dot(w,X_train.T) + b\n",
    "    cost = (1/(2*m))*np.sum((y - y_train)**2)\n",
    "    w -= 0.001*(1/m)*np.dot((y-y_train),X_train)\n",
    "    b -= 0.001*(1/m)*np.sum((y-y_train))\n",
    "    ws.append(w)\n",
    "    costs.append(cost)\n",
    "    if i%10 == 0:\n",
    "        print(cost)"
   ]
  },
  {
   "cell_type": "code",
   "execution_count": 205,
   "metadata": {},
   "outputs": [
    {
     "name": "stdout",
     "output_type": "stream",
     "text": [
      "0.01771548781020084\n",
      "0.014930829922165437\n",
      "0.013698977348990374\n",
      "0.013152537244691282\n",
      "0.012908646420159634\n"
     ]
    }
   ],
   "source": [
    "for i in range(50):\n",
    "    y = np.dot(w,X_train.T) + b\n",
    "    cost = (1/(2*m))*np.sum((y - y_train)**2)\n",
    "    w -= 0.001*(1/m)*np.dot((y-y_train),X_train)\n",
    "    b -= 0.001*(1/m)*np.sum((y-y_train))\n",
    "    ws.append(w)\n",
    "    costs.append(cost)\n",
    "    if i%10 == 0:\n",
    "        print(cost)"
   ]
  },
  {
   "cell_type": "markdown",
   "metadata": {},
   "source": [
    "## 6. Results\n",
    "Now is the time to review the parameters the we got in the end."
   ]
  },
  {
   "cell_type": "code",
   "execution_count": 206,
   "metadata": {},
   "outputs": [
    {
     "data": {
      "text/plain": [
       "(0.9686487265314645, 0.134214389504315)"
      ]
     },
     "execution_count": 206,
     "metadata": {},
     "output_type": "execute_result"
    }
   ],
   "source": [
    "w,b"
   ]
  },
  {
   "cell_type": "markdown",
   "metadata": {},
   "source": [
    "We can find out the descent of the cost functon **(Gradient Descent)** by plotting the diffrent values of costs at diffrent stages of optimization with diffrent values of parameters an diffrent stages of learning."
   ]
  },
  {
   "cell_type": "code",
   "execution_count": 213,
   "metadata": {},
   "outputs": [
    {
     "data": {
      "text/plain": [
       "Text(0,0.5,'Costs')"
      ]
     },
     "execution_count": 213,
     "metadata": {},
     "output_type": "execute_result"
    },
    {
     "data": {
      "image/png": "[encoded data removed]",
      "text/plain": [
       "<matplotlib.figure.Figure at 0xce4527a128>"
      ]
     },
     "metadata": {},
     "output_type": "display_data"
    }
   ],
   "source": [
    "plt.scatter(ws,costs)\n",
    "plt.xlabel('Parameters')\n",
    "plt.ylabel('Costs')"
   ]
  },
  {
   "cell_type": "markdown",
   "metadata": {},
   "source": [
    "With this final graph we will find out how well our algorithm did and is ok to use the algorithm to make **predictions**."
   ]
  },
  {
   "cell_type": "code",
   "execution_count": 215,
   "metadata": {},
   "outputs": [
    {
     "data": {
      "text/plain": [
       "Text(0,0.5,'y')"
      ]
     },
     "execution_count": 215,
     "metadata": {},
     "output_type": "execute_result"
    },
    {
     "data": {
      "image/png": "[encoded data removed]",
      "text/plain": [
       "<matplotlib.figure.Figure at 0xce4b85c4e0>"
      ]
     },
     "metadata": {},
     "output_type": "display_data"
    }
   ],
   "source": [
    "plt.scatter(X_train, y_train)\n",
    "x = np.array([1,2,3,4,5,6,7,8,9,10,11])\n",
    "y = w*x + b\n",
    "plt.plot(x,y)\n",
    "plt.xlabel('X')\n",
    "plt.ylabel('y')"
   ]
  },
  {
   "cell_type": "code",
   "execution_count": null,
   "metadata": {},
   "outputs": [],
   "source": []
  }
 ],
 "metadata": {
  "kernelspec": {
   "display_name": "Python 3",
   "language": "python",
   "name": "python3"
  },
  "language_info": {
   "codemirror_mode": {
    "name": "ipython",
    "version": 3
   },
   "file_extension": ".py",
   "mimetype": "text/x-python",
   "name": "python",
   "nbconvert_exporter": "python",
   "pygments_lexer": "ipython3",
   "version": "3.6.4"
  }
 },
 "nbformat": 4,
 "nbformat_minor": 2
}
